{
 "cells": [
  {
   "cell_type": "code",
   "execution_count": 1,
   "id": "9ecf9e82-d6ae-4edc-8181-f6397e9c7556",
   "metadata": {},
   "outputs": [],
   "source": [
    "import numpy as np\n",
    "import pandas as pd\n"
   ]
  },
  {
   "cell_type": "code",
   "execution_count": 2,
   "id": "bfcc50dd-3a7d-477e-ac0b-0cf18f551d11",
   "metadata": {},
   "outputs": [
    {
     "name": "stdout",
     "output_type": "stream",
     "text": [
      "   longitude  latitude  housing_median_age  total_rooms  total_bedrooms  \\\n",
      "0    -122.23     37.88                41.0        880.0           129.0   \n",
      "1    -122.22     37.86                21.0       7099.0          1106.0   \n",
      "2    -122.24     37.85                52.0       1467.0           190.0   \n",
      "3    -122.25     37.85                52.0       1274.0           235.0   \n",
      "4    -122.25     37.85                52.0       1627.0           280.0   \n",
      "\n",
      "   population  households  median_income  median_house_value ocean_proximity  \n",
      "0       322.0       126.0         8.3252            452600.0        NEAR BAY  \n",
      "1      2401.0      1138.0         8.3014            358500.0        NEAR BAY  \n",
      "2       496.0       177.0         7.2574            352100.0        NEAR BAY  \n",
      "3       558.0       219.0         5.6431            341300.0        NEAR BAY  \n",
      "4       565.0       259.0         3.8462            342200.0        NEAR BAY  \n"
     ]
    }
   ],
   "source": [
    "# Carregar o dataset\n",
    "df = pd.read_csv('C:/Users/Daniel/Desktop/Cálculo de Estatísticas Básicas com NumPy/AmesHousing.csv')\n",
    "\n",
    "# Exibir as primeiras linhas do dataset\n",
    "print(df.head())\n"
   ]
  },
  {
   "cell_type": "code",
   "execution_count": 3,
   "id": "1efb877d-0bbf-42e8-a75b-a3950378c987",
   "metadata": {},
   "outputs": [
    {
     "name": "stdout",
     "output_type": "stream",
     "text": [
      "Total Rooms: [ 880. 7099. 1467. 1274. 1627.]\n",
      "Total Bedrooms: [ 129. 1106.  190.  235.  280.]\n",
      "Population: [ 322. 2401.  496.  558.  565.]\n",
      "Households: [ 126. 1138.  177.  219.  259.]\n",
      "Median Income: [8.3252 8.3014 7.2574 5.6431 3.8462]\n"
     ]
    }
   ],
   "source": [
    "# Converter colunas selecionadas em arrays NumPy\n",
    "total_rooms = np.array(df['total_rooms'])\n",
    "total_bedrooms = np.array(df['total_bedrooms'])\n",
    "population = np.array(df['population'])\n",
    "households = np.array(df['households'])\n",
    "median_income = np.array(df['median_income'])\n",
    "\n",
    "# Exibir os arrays criados\n",
    "print(\"Total Rooms:\", total_rooms[:5])\n",
    "print(\"Total Bedrooms:\", total_bedrooms[:5])\n",
    "print(\"Population:\", population[:5])\n",
    "print(\"Households:\", households[:5])\n",
    "print(\"Median Income:\", median_income[:5])\n"
   ]
  },
  {
   "cell_type": "code",
   "execution_count": 4,
   "id": "866746a7-7405-47d0-97fb-9f8b1aeccba1",
   "metadata": {},
   "outputs": [
    {
     "name": "stdout",
     "output_type": "stream",
     "text": [
      "Soma de Total Rooms: 54402150.0\n",
      "Soma de Total Bedrooms: nan\n",
      "Soma de Population: 29421840.0\n",
      "Soma de Households: 10310499.0\n",
      "Soma de Median Income: 79890.6495\n"
     ]
    }
   ],
   "source": [
    "# Calcular a soma de cada array\n",
    "sum_total_rooms = np.sum(total_rooms)\n",
    "sum_total_bedrooms = np.sum(total_bedrooms)\n",
    "sum_population = np.sum(population)\n",
    "sum_households = np.sum(households)\n",
    "sum_median_income = np.sum(median_income)\n",
    "\n",
    "# Exibir os resultados\n",
    "print(\"Soma de Total Rooms:\", sum_total_rooms)\n",
    "print(\"Soma de Total Bedrooms:\", sum_total_bedrooms)\n",
    "print(\"Soma de Population:\", sum_population)\n",
    "print(\"Soma de Households:\", sum_households)\n",
    "print(\"Soma de Median Income:\", sum_median_income)\n"
   ]
  },
  {
   "cell_type": "code",
   "execution_count": 5,
   "id": "56a22c79-573d-49f1-8b26-e3fea1e74e42",
   "metadata": {},
   "outputs": [
    {
     "name": "stdout",
     "output_type": "stream",
     "text": [
      "Há valores nan em Total Bedrooms? True\n"
     ]
    }
   ],
   "source": [
    "# Verificar se há valores nan\n",
    "nan_total_bedrooms = np.isnan(total_bedrooms).any()\n",
    "print(\"Há valores nan em Total Bedrooms?\", nan_total_bedrooms)\n"
   ]
  },
  {
   "cell_type": "code",
   "execution_count": 6,
   "id": "1bac7263-bdd0-478c-b336-b0ff9d023562",
   "metadata": {},
   "outputs": [],
   "source": [
    "# Substituir valores nan por zero\n",
    "total_bedrooms = np.nan_to_num(total_bedrooms, nan=0)\n"
   ]
  },
  {
   "cell_type": "code",
   "execution_count": 7,
   "id": "d05035c3-a808-49d2-8f40-8cee94df520e",
   "metadata": {},
   "outputs": [
    {
     "name": "stdout",
     "output_type": "stream",
     "text": [
      "Soma de Total Bedrooms após tratamento de nan: 10990309.0\n"
     ]
    }
   ],
   "source": [
    "# Recalcular a soma\n",
    "soma_total_bedrooms = np.sum(total_bedrooms)\n",
    "print(\"Soma de Total Bedrooms após tratamento de nan:\", soma_total_bedrooms)\n"
   ]
  },
  {
   "cell_type": "code",
   "execution_count": 8,
   "id": "afcb7f42-c791-4693-abc5-b267b6a181ec",
   "metadata": {},
   "outputs": [
    {
     "name": "stdout",
     "output_type": "stream",
     "text": [
      "Média de Total Rooms: 2635.7630813953488\n",
      "Média de Total Bedrooms: 532.47621124031\n",
      "Média de Population: 1425.4767441860465\n",
      "Média de Households: 499.5396802325581\n",
      "Média de Median Income: 3.8706710029069766\n"
     ]
    }
   ],
   "source": [
    "# Calcular a média\n",
    "media_total_rooms = np.mean(total_rooms)\n",
    "media_total_bedrooms = np.mean(total_bedrooms)\n",
    "media_population = np.mean(population)\n",
    "media_households = np.mean(households)\n",
    "media_median_income = np.mean(median_income)\n",
    "\n",
    "print(\"Média de Total Rooms:\", media_total_rooms)\n",
    "print(\"Média de Total Bedrooms:\", media_total_bedrooms)\n",
    "print(\"Média de Population:\", media_population)\n",
    "print(\"Média de Households:\", media_households)\n",
    "print(\"Média de Median Income:\", media_median_income)\n"
   ]
  },
  {
   "cell_type": "code",
   "execution_count": 9,
   "id": "2b0d2d7a-c63a-499c-90de-b07adbe26f31",
   "metadata": {},
   "outputs": [
    {
     "name": "stdout",
     "output_type": "stream",
     "text": [
      "Desvio Padrão de Total Rooms: 2181.5624017359723\n",
      "Desvio Padrão de Total Bedrooms: 422.6680933861143\n",
      "Desvio Padrão de Population: 1132.434687757615\n",
      "Desvio Padrão de Households: 382.3204908552571\n",
      "Desvio Padrão de Median Income: 1.8997756945748738\n"
     ]
    }
   ],
   "source": [
    "# Calcular o desvio padrão\n",
    "desvio_total_rooms = np.std(total_rooms)\n",
    "desvio_total_bedrooms = np.std(total_bedrooms)\n",
    "desvio_population = np.std(population)\n",
    "desvio_households = np.std(households)\n",
    "desvio_median_income = np.std(median_income)\n",
    "\n",
    "print(\"Desvio Padrão de Total Rooms:\", desvio_total_rooms)\n",
    "print(\"Desvio Padrão de Total Bedrooms:\", desvio_total_bedrooms)\n",
    "print(\"Desvio Padrão de Population:\", desvio_population)\n",
    "print(\"Desvio Padrão de Households:\", desvio_households)\n",
    "print(\"Desvio Padrão de Median Income:\", desvio_median_income)\n"
   ]
  },
  {
   "cell_type": "code",
   "execution_count": 10,
   "id": "19216318-812b-4859-a5fd-18bd7347084b",
   "metadata": {},
   "outputs": [],
   "source": [
    "# Criar matrizes a partir dos arrays\n",
    "matriz_total_rooms = total_rooms.reshape(-1, 1)  # Matrizes coluna\n",
    "matriz_total_bedrooms = total_bedrooms.reshape(-1, 1)\n",
    "matriz_population = population.reshape(-1, 1)\n",
    "matriz_households = households.reshape(-1, 1)\n",
    "matriz_median_income = median_income.reshape(-1, 1)\n"
   ]
  },
  {
   "cell_type": "code",
   "execution_count": 11,
   "id": "a9a83bde-ee47-4e29-8ebc-5cb3d98c7e4a",
   "metadata": {},
   "outputs": [
    {
     "name": "stdout",
     "output_type": "stream",
     "text": [
      "Multiplicação de Matrizes (Total Rooms x Total Bedrooms):\n",
      "[[ 113520.  973280.  167200. ...  426800.  359920.  542080.]\n",
      " [ 915771. 7851494. 1348810. ... 3443015. 2903491. 4372984.]\n",
      " [ 189243. 1622502.  278730. ...  711495.  600003.  903672.]\n",
      " ...\n",
      " [ 290766. 2492924.  428260. ... 1093190.  921886. 1388464.]\n",
      " [ 239940. 2057160.  353400. ...  902100.  760740. 1145760.]\n",
      " [ 359265. 3080210.  529150. ... 1350725. 1139065. 1715560.]]\n"
     ]
    }
   ],
   "source": [
    "# Multiplicação de matrizes\n",
    "multiplicacao = np.dot(matriz_total_rooms, matriz_total_bedrooms.T)\n",
    "print(\"Multiplicação de Matrizes (Total Rooms x Total Bedrooms):\")\n",
    "print(multiplicacao)\n"
   ]
  },
  {
   "cell_type": "code",
   "execution_count": 12,
   "id": "fad4bec4-7b8d-4962-b40f-6d15fa3bfc26",
   "metadata": {},
   "outputs": [
    {
     "name": "stdout",
     "output_type": "stream",
     "text": [
      "Matriz Original:\n",
      "[[1 2]\n",
      " [3 4]]\n",
      "Matriz Inversa:\n",
      "[[-2.   1. ]\n",
      " [ 1.5 -0.5]]\n"
     ]
    }
   ],
   "source": [
    "# Criar uma matriz quadrada 2x2 para inversão\n",
    "matriz_quadrada = np.array([[1, 2], [3, 4]])\n",
    "\n",
    "# Inverter a matriz\n",
    "inversao = np.linalg.inv(matriz_quadrada)\n",
    "print(\"Matriz Original:\")\n",
    "print(matriz_quadrada)\n",
    "print(\"Matriz Inversa:\")\n",
    "print(inversao)\n"
   ]
  },
  {
   "cell_type": "code",
   "execution_count": null,
   "id": "98a038ab-c7c5-4b28-bbab-5086571be0d9",
   "metadata": {},
   "outputs": [],
   "source": []
  }
 ],
 "metadata": {
  "kernelspec": {
   "display_name": "Python 3 (ipykernel)",
   "language": "python",
   "name": "python3"
  },
  "language_info": {
   "codemirror_mode": {
    "name": "ipython",
    "version": 3
   },
   "file_extension": ".py",
   "mimetype": "text/x-python",
   "name": "python",
   "nbconvert_exporter": "python",
   "pygments_lexer": "ipython3",
   "version": "3.12.4"
  }
 },
 "nbformat": 4,
 "nbformat_minor": 5
}
